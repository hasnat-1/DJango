{
 "cells": [
  {
   "cell_type": "code",
   "execution_count": 2,
   "metadata": {},
   "outputs": [
    {
     "name": "stdout",
     "output_type": "stream",
     "text": [
      "Accuracy: 0.14285714285714285\n"
     ]
    }
   ],
   "source": [
    "import pandas as pd\n",
    "from sklearn.ensemble import RandomForestClassifier\n",
    "from sklearn.model_selection import train_test_split\n",
    "\n",
    "# Load dataset\n",
    "df = pd.read_csv('accident_data.csv');\n",
    "\n",
    "# Define features \n",
    "X = df[['Oxygen saturation (%)', 'Heart rate (bpm)']]\n",
    "\n",
    "# Define target\n",
    "y = df['Activity']\n",
    "\n",
    "# Split data\n",
    "X_train, X_test, y_train, y_test = train_test_split(X, y, test_size=0.2, random_state=42)\n",
    "\n",
    "# Train model\n",
    "model = RandomForestClassifier()\n",
    "model.fit(X_train, y_train)\n",
    "\n",
    "# Make predictions\n",
    "predictions = model.predict(X_test)\n",
    "\n",
    "# Evaluate\n",
    "from sklearn.metrics import accuracy_score\n",
    "print(\"Accuracy:\", accuracy_score(y_test, predictions))\n",
    "\n"
   ]
  },
  {
   "cell_type": "markdown",
   "metadata": {},
   "source": [
    "# pridect from dataset"
   ]
  },
  {
   "cell_type": "code",
   "execution_count": 3,
   "metadata": {},
   "outputs": [
    {
     "name": "stdout",
     "output_type": "stream",
     "text": [
      "Prediction: Bike accident\n"
     ]
    },
    {
     "name": "stderr",
     "output_type": "stream",
     "text": [
      "c:\\Users\\Admin\\AppData\\Local\\Programs\\Python\\Python312\\Lib\\site-packages\\sklearn\\base.py:465: UserWarning: X does not have valid feature names, but RandomForestClassifier was fitted with feature names\n",
      "  warnings.warn(\n"
     ]
    }
   ],
   "source": [
    "# Example prediction\n",
    "input_data = [[90, 150]]\n",
    "prediction = model.predict(input_data) \n",
    "print(\"Prediction:\", prediction[0])"
   ]
  },
  {
   "cell_type": "markdown",
   "metadata": {},
   "source": [
    "# connect with firebase"
   ]
  },
  {
   "cell_type": "code",
   "execution_count": 4,
   "metadata": {},
   "outputs": [],
   "source": [
    "import firebase_admin\n",
    "from firebase_admin import credentials, db\n",
    "\n",
    "# Set the database URL\n",
    "database_url = 'https://asdf-d4112-default-rtdb.firebaseio.com'\n",
    "\n",
    "# Set the service account key file path\n",
    "service_account_key_file_path = 'cred.json'\n",
    "\n",
    "# Create a credentials object from the service account key file.\n",
    "cred = credentials.Certificate(service_account_key_file_path)\n",
    "\n",
    "# Initialize the Firebase Admin Python SDK with the credentials object and database URL.\n",
    "firebase_admin.initialize_app(cred, options={\"databaseURL\": database_url})\n",
    "\n",
    "# Get a reference to the database.\n",
    "ref = db.reference('/')"
   ]
  },
  {
   "cell_type": "markdown",
   "metadata": {},
   "source": [
    "# real value from firebase"
   ]
  },
  {
   "cell_type": "code",
   "execution_count": 5,
   "metadata": {},
   "outputs": [
    {
     "name": "stdout",
     "output_type": "stream",
     "text": [
      "[1534, 55, 1425, 54]\n"
     ]
    }
   ],
   "source": [
    "# Get the values from Firebase.\n",
    "smart_ring_red_value = ref.child('smart_ring/Red').get()\n",
    "smart_ring_HR_value = ref.child('smart_ring/HR').get()\n",
    "smart_ring_IR_value = ref.child('smart_ring/IR').get()\n",
    "smart_ring_spo2_value = ref.child('smart_ring/SPO2').get()\n",
    "\n",
    "# Create a list of the values.\n",
    "smart_ring_values = [\n",
    "    smart_ring_red_value,\n",
    "    smart_ring_HR_value,\n",
    "    smart_ring_IR_value,\n",
    "    smart_ring_spo2_value,\n",
    "]\n",
    "\n",
    "# Print the list to the console.\n",
    "print(smart_ring_values)"
   ]
  },
  {
   "cell_type": "code",
   "execution_count": 7,
   "metadata": {},
   "outputs": [
    {
     "name": "stdout",
     "output_type": "stream",
     "text": [
      "Prediction: Panic attack\n",
      "[54, 55]\n"
     ]
    },
    {
     "name": "stderr",
     "output_type": "stream",
     "text": [
      "c:\\Users\\Admin\\AppData\\Local\\Programs\\Python\\Python312\\Lib\\site-packages\\sklearn\\base.py:465: UserWarning: X does not have valid feature names, but RandomForestClassifier was fitted with feature names\n",
      "  warnings.warn(\n"
     ]
    }
   ],
   "source": [
    "# Get the values from Firebase.\n",
    "smart_ring_red_value = ref.child('smart_ring/Red').get()\n",
    "smart_ring_HR_value = ref.child('smart_ring/HR').get()\n",
    "smart_ring_IR_value = ref.child('smart_ring/IR').get()\n",
    "smart_ring_spo2_value = ref.child('smart_ring/SPO2').get()\n",
    "\n",
    "# Create a list of the values.\n",
    "smart_ring_values = [\n",
    "    smart_ring_spo2_value,\n",
    "    smart_ring_HR_value,\n",
    "    \n",
    "]\n",
    "# Print the list to the console.\n",
    "print(smart_ring_values)\n",
    "\n",
    "input_data = [smart_ring_values]\n",
    "prediction = model.predict(input_data) \n",
    "print(\"Prediction:\", prediction[0])\n"
   ]
  },
  {
   "cell_type": "markdown",
   "metadata": {},
   "source": [
    "# using while loop"
   ]
  },
  {
   "cell_type": "code",
   "execution_count": 15,
   "metadata": {},
   "outputs": [
    {
     "name": "stdout",
     "output_type": "stream",
     "text": [
      "[90, 90]\n",
      "Prediction: Asthma attack\n"
     ]
    },
    {
     "name": "stderr",
     "output_type": "stream",
     "text": [
      "c:\\Users\\Admin\\AppData\\Local\\Programs\\Python\\Python312\\Lib\\site-packages\\sklearn\\base.py:465: UserWarning: X does not have valid feature names, but RandomForestClassifier was fitted with feature names\n",
      "  warnings.warn(\n"
     ]
    },
    {
     "name": "stdout",
     "output_type": "stream",
     "text": [
      "[90, 90]\n",
      "Prediction: Asthma attack\n"
     ]
    },
    {
     "name": "stderr",
     "output_type": "stream",
     "text": [
      "c:\\Users\\Admin\\AppData\\Local\\Programs\\Python\\Python312\\Lib\\site-packages\\sklearn\\base.py:465: UserWarning: X does not have valid feature names, but RandomForestClassifier was fitted with feature names\n",
      "  warnings.warn(\n"
     ]
    },
    {
     "name": "stdout",
     "output_type": "stream",
     "text": [
      "[90, 90]\n",
      "Prediction: Asthma attack\n"
     ]
    },
    {
     "name": "stderr",
     "output_type": "stream",
     "text": [
      "c:\\Users\\Admin\\AppData\\Local\\Programs\\Python\\Python312\\Lib\\site-packages\\sklearn\\base.py:465: UserWarning: X does not have valid feature names, but RandomForestClassifier was fitted with feature names\n",
      "  warnings.warn(\n"
     ]
    },
    {
     "name": "stdout",
     "output_type": "stream",
     "text": [
      "[90, 90]\n",
      "Prediction: Asthma attack\n"
     ]
    },
    {
     "name": "stderr",
     "output_type": "stream",
     "text": [
      "c:\\Users\\Admin\\AppData\\Local\\Programs\\Python\\Python312\\Lib\\site-packages\\sklearn\\base.py:465: UserWarning: X does not have valid feature names, but RandomForestClassifier was fitted with feature names\n",
      "  warnings.warn(\n"
     ]
    },
    {
     "name": "stdout",
     "output_type": "stream",
     "text": [
      "[88, 90]\n",
      "Prediction: Panic attack\n"
     ]
    },
    {
     "name": "stderr",
     "output_type": "stream",
     "text": [
      "c:\\Users\\Admin\\AppData\\Local\\Programs\\Python\\Python312\\Lib\\site-packages\\sklearn\\base.py:465: UserWarning: X does not have valid feature names, but RandomForestClassifier was fitted with feature names\n",
      "  warnings.warn(\n"
     ]
    },
    {
     "name": "stdout",
     "output_type": "stream",
     "text": [
      "[88, 150]\n",
      "Prediction: Panic attack\n"
     ]
    },
    {
     "name": "stderr",
     "output_type": "stream",
     "text": [
      "c:\\Users\\Admin\\AppData\\Local\\Programs\\Python\\Python312\\Lib\\site-packages\\sklearn\\base.py:465: UserWarning: X does not have valid feature names, but RandomForestClassifier was fitted with feature names\n",
      "  warnings.warn(\n"
     ]
    },
    {
     "name": "stdout",
     "output_type": "stream",
     "text": [
      "[88, 150]\n",
      "Prediction: Panic attack\n"
     ]
    },
    {
     "name": "stderr",
     "output_type": "stream",
     "text": [
      "c:\\Users\\Admin\\AppData\\Local\\Programs\\Python\\Python312\\Lib\\site-packages\\sklearn\\base.py:465: UserWarning: X does not have valid feature names, but RandomForestClassifier was fitted with feature names\n",
      "  warnings.warn(\n"
     ]
    },
    {
     "ename": "KeyboardInterrupt",
     "evalue": "",
     "output_type": "error",
     "traceback": [
      "\u001b[1;31m---------------------------------------------------------------------------\u001b[0m",
      "\u001b[1;31mKeyboardInterrupt\u001b[0m                         Traceback (most recent call last)",
      "\u001b[1;32mc:\\Users\\Admin\\Desktop\\pandas\\hrdaataset\\RendomforestAndFiresebase.ipynb Cell 10\u001b[0m line \u001b[0;36m2\n\u001b[0;32m     <a href='vscode-notebook-cell:/c%3A/Users/Admin/Desktop/pandas/hrdaataset/RendomforestAndFiresebase.ipynb#X11sZmlsZQ%3D%3D?line=18'>19</a>\u001b[0m prediction \u001b[39m=\u001b[39m model\u001b[39m.\u001b[39mpredict(input_data) \n\u001b[0;32m     <a href='vscode-notebook-cell:/c%3A/Users/Admin/Desktop/pandas/hrdaataset/RendomforestAndFiresebase.ipynb#X11sZmlsZQ%3D%3D?line=19'>20</a>\u001b[0m \u001b[39mprint\u001b[39m(\u001b[39m\"\u001b[39m\u001b[39mPrediction:\u001b[39m\u001b[39m\"\u001b[39m, prediction[\u001b[39m0\u001b[39m])\n\u001b[1;32m---> <a href='vscode-notebook-cell:/c%3A/Users/Admin/Desktop/pandas/hrdaataset/RendomforestAndFiresebase.ipynb#X11sZmlsZQ%3D%3D?line=20'>21</a>\u001b[0m time\u001b[39m.\u001b[39;49msleep(\u001b[39m5\u001b[39;49m)\n",
      "\u001b[1;31mKeyboardInterrupt\u001b[0m: "
     ]
    }
   ],
   "source": [
    "import time\n",
    "\n",
    "while True:\n",
    "    # Get the values from Firebase.\n",
    "    smart_ring_red_value = ref.child('smart_ring/Red').get()\n",
    "    smart_ring_HR_value = ref.child('smart_ring/HR').get()\n",
    "    smart_ring_IR_value = ref.child('smart_ring/IR').get()\n",
    "    smart_ring_spo2_value = ref.child('smart_ring/SPO2').get()\n",
    "    # Create a list of the values.\n",
    "    smart_ring_values = [\n",
    "    smart_ring_spo2_value,\n",
    "    smart_ring_HR_value,\n",
    "    ]\n",
    "\n",
    "    # Print the list to the console.\n",
    "    print(smart_ring_values)\n",
    "\n",
    "    input_data = [smart_ring_values]\n",
    "    prediction = model.predict(input_data) \n",
    "    print(\"Prediction:\", prediction[0])\n",
    "    time.sleep(5)"
   ]
  }
 ],
 "metadata": {
  "kernelspec": {
   "display_name": "Python 3",
   "language": "python",
   "name": "python3"
  },
  "language_info": {
   "codemirror_mode": {
    "name": "ipython",
    "version": 3
   },
   "file_extension": ".py",
   "mimetype": "text/x-python",
   "name": "python",
   "nbconvert_exporter": "python",
   "pygments_lexer": "ipython3",
   "version": "3.12.0"
  }
 },
 "nbformat": 4,
 "nbformat_minor": 2
}
